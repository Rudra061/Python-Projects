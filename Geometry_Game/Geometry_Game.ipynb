{
  "nbformat": 4,
  "nbformat_minor": 0,
  "metadata": {
    "colab": {
      "provenance": []
    },
    "kernelspec": {
      "name": "python3",
      "display_name": "Python 3"
    },
    "language_info": {
      "name": "python"
    }
  },
  "cells": [
    {
      "cell_type": "markdown",
      "source": [
        "Development Steps\n",
        "-----------------\n",
        "\n",
        "1. writing the objects on paper\n",
        "2. writing a class for each object\n",
        "3. writing methods for each class\n",
        "4. calling the classes and their methods\n"
      ],
      "metadata": {
        "id": "JheT3aEiXNoB"
      }
    },
    {
      "cell_type": "code",
      "source": [
        "class Point:\n",
        "\n",
        "  def __init__(self,x,y):\n",
        "    self.x = x\n",
        "    self.y = y\n",
        "\n",
        "  def falls_in_rectangle(self, rectangle):\n",
        "    if rectangle.point1.x < self.x < rectangle.point2.x \\\n",
        "    and rectangle.point1.y < self.y < rectangle.point2.y:\n",
        "      return True\n",
        "    else:\n",
        "      return False\n",
        "\n",
        "\n",
        "class Rectangle:\n",
        "\n",
        "  def __init__(self, point1, point2):\n",
        "    self.point1 = point1\n",
        "    self.point2 = point2\n",
        "\n",
        "  def area(self):\n",
        "    return (self.point2.x - self.point1.x)*(self.point2.y - self.point1.y)\n",
        "\n"
      ],
      "metadata": {
        "id": "BN1N35B3ym1y"
      },
      "execution_count": null,
      "outputs": []
    },
    {
      "cell_type": "code",
      "source": [
        "from random import randint\n",
        "\n",
        "\n",
        "rectangle = Rectangle(\n",
        "  Point(randint(0,9),randint(0,9)),Point(randint(10,19),randint(10,19))\n",
        ")"
      ],
      "metadata": {
        "id": "BU4yAXfl1C6F"
      },
      "execution_count": null,
      "outputs": []
    },
    {
      "cell_type": "code",
      "source": [
        "print(\"Rectangle Coordinates: \",\n",
        "      rectangle.point1.x,\",\",\n",
        "      rectangle.point1.y,\"and\",\n",
        "      rectangle.point2.x,\",\",\n",
        "      rectangle.point2.y)\n",
        "\n",
        "user_point = Point(float(input(\"Guess X\")),(float(input(\"Guess Y\"))))\n",
        "\n",
        "user_area = float(input(\"Guess Rectangle Area\"))\n",
        "\n",
        "print(\"Your point was inside :\", user_point.falls_in_rectangle(rectangle))\n",
        "print(\"Your Area was off by\" ,rectangle.area() - user_area)"
      ],
      "metadata": {
        "colab": {
          "base_uri": "https://localhost:8080/"
        },
        "id": "HbHd02Ja1xcD",
        "outputId": "0bfa926f-368c-4457-ac96-755cc7741ccb"
      },
      "execution_count": null,
      "outputs": [
        {
          "output_type": "stream",
          "name": "stdout",
          "text": [
            "Rectangle Coordinates:  3 , 1 and 15 , 16\n",
            "Guess X5\n",
            "Guess Y3\n",
            "Guess Rectangle Area290\n",
            "Your point was inside : True\n",
            "Your Area was off by -110.0\n"
          ]
        }
      ]
    },
    {
      "cell_type": "code",
      "source": [],
      "metadata": {
        "id": "5xB8EOci2_Ef"
      },
      "execution_count": null,
      "outputs": []
    }
  ]
}